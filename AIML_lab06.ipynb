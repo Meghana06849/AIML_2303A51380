{
  "nbformat": 4,
  "nbformat_minor": 0,
  "metadata": {
    "colab": {
      "provenance": [],
      "authorship_tag": "ABX9TyNt49VooEEr72nldcyVB0EF",
      "include_colab_link": true
    },
    "kernelspec": {
      "name": "python3",
      "display_name": "Python 3"
    },
    "language_info": {
      "name": "python"
    }
  },
  "cells": [
    {
      "cell_type": "markdown",
      "metadata": {
        "id": "view-in-github",
        "colab_type": "text"
      },
      "source": [
        "<a href=\"https://colab.research.google.com/github/Meghana06849/AIML_2303A51380/blob/main/AIML_lab06.ipynb\" target=\"_parent\"><img src=\"https://colab.research.google.com/assets/colab-badge.svg\" alt=\"Open In Colab\"/></a>"
      ]
    },
    {
      "cell_type": "markdown",
      "source": [
        "PART-01\n",
        "\n",
        "1 Implement the K Nearest Neighbor Classification using Classified Manufacturing Dataset\n",
        "Part 1 – Import the required Python, Pandas, Matplotlib, Seaborn packages.\n",
        "[CO1]\n",
        "1. Load the classified dataset into a dataframe using pandas\n",
        "2. Check the data types of each feature(column) in the dataset.\n",
        "3. Generate a summary of the dataset for min, max, stddev,\n",
        "quartile vales for 25%,50%,75%,90%,\n",
        "4. List the names of columns/features in the dataset\n",
        "5. Scale the features using StandardScaler and transform the data"
      ],
      "metadata": {
        "id": "TXqtIeKAURV5"
      }
    },
    {
      "cell_type": "code",
      "execution_count": null,
      "metadata": {
        "id": "dIbvy8apToic"
      },
      "outputs": [],
      "source": []
    }
  ]
}