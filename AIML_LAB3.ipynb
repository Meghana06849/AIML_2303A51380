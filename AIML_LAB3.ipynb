{
  "nbformat": 4,
  "nbformat_minor": 0,
  "metadata": {
    "colab": {
      "provenance": [],
      "authorship_tag": "ABX9TyPC5OCu074i3DP4W7FLhl6R",
      "include_colab_link": true
    },
    "kernelspec": {
      "name": "python3",
      "display_name": "Python 3"
    },
    "language_info": {
      "name": "python"
    }
  },
  "cells": [
    {
      "cell_type": "markdown",
      "metadata": {
        "id": "view-in-github",
        "colab_type": "text"
      },
      "source": [
        "<a href=\"https://colab.research.google.com/github/Meghana06849/AIML_2303A51380/blob/main/AIML_LAB3.ipynb\" target=\"_parent\"><img src=\"https://colab.research.google.com/assets/colab-badge.svg\" alt=\"Open In Colab\"/></a>"
      ]
    },
    {
      "cell_type": "markdown",
      "source": [
        "1 Implement the AI Game Strategy\n",
        "Part 1 –(a). Install the Python Libraries required for Game Strategy. [CO2]\n",
        "1. Install the python libraries - collections, random, math, functools,\n",
        "cache = functools.lru cache(10**6)\n",
        "2. Implement a Game Class Constructor using action, is terminal, result, utility functions\n",
        "3. A game is similar to a problem, but it has a terminal test instead of a goal test, and a\n",
        "utility for each terminal state.\n",
        "4. Create a game subclass and implement actions, result, is terminal, and utility.\n",
        "5. You will also need to set the initial attribute to the initial state; this can be done in the\n",
        "constructor."
      ],
      "metadata": {
        "id": "yo1hI08o5s4N"
      }
    },
    {
      "cell_type": "markdown",
      "source": [
        "6. Implement a Player Game using the Game Class Constructor.\n"
      ],
      "metadata": {
        "id": "U8Uy8IXK5-FD"
      }
    },
    {
      "cell_type": "code",
      "execution_count": null,
      "metadata": {
        "id": "eRCTd6SfWV4d"
      },
      "outputs": [],
      "source": [
        "def play_game(game, strategies: dict , verbose=False):\n",
        "\n",
        "  state = game.initial\n",
        "  while not game.is_terminal(state):\n",
        "    player = state.to_move\n",
        "    move = strategies[player](game, state)\n",
        "    state = game.result(state, move)\n",
        "    if verbose:\n",
        "      print('Player', player , 'move:', move)\n",
        "      print(state)\n",
        "  return state\n",
        "\n"
      ]
    },
    {
      "cell_type": "markdown",
      "source": [],
      "metadata": {
        "id": "GLZWGVz150W3"
      }
    },
    {
      "cell_type": "code",
      "source": [
        "class Game:\n",
        "\n",
        "  def actions(self, state):\n",
        "##Return a collection of the allowable moves from this state .\"\"\"\n",
        "    raise NotImplementedError\n",
        "\n",
        "  def result(self, state , move):\n",
        "#\"\"\"Return the state that results from making a move from a state .\"\"\"\n",
        "    raise NotImplementedError\n",
        "\n",
        "  def is_terminal(self, state):\n",
        "#\"\"\"Return True i f this is a final state for the game.\"\"\"\n",
        "    return not self.actions(state)\n",
        "\n",
        "  def utility(self, state , player):\n",
        "#\"\"\"Return the value of this final state to player.\"\"\"\n",
        "    raise NotImplementedError"
      ],
      "metadata": {
        "id": "mPTaO1SeWxUC"
      },
      "execution_count": null,
      "outputs": []
    },
    {
      "cell_type": "markdown",
      "source": [
        "Part 2 – Implement the Game Strategy Algorithms. [CO3]\n",
        "1. Implement the MiniMax Search Algorithm"
      ],
      "metadata": {
        "id": "AjtGv4rd6XIo"
      }
    },
    {
      "cell_type": "markdown",
      "source": [],
      "metadata": {
        "id": "cR-5iN9k6iQ4"
      }
    },
    {
      "cell_type": "code",
      "source": [
        "#Part - 2\n",
        "def minimax_search(game , state):\n",
        "#\"\"\"Search game tree to determine best move; return (value, move) pair.\"\"\"\n",
        "  player = state.to_move\n",
        "def max_value(state):\n",
        "  if game.is_terminal(state):\n",
        "    return game.utility(state , player), None\n",
        "  v, move = -infinity , None\n",
        "  for a in game.actions(state):\n",
        "    v2, _ = min_value(game.result(state , a))\n",
        "  if v2 > v:\n",
        "    v, move = v2, a\n",
        "    return v, move\n",
        "def min_value(state):\n",
        "  if game.is_terminal(state):\n",
        "    return game.utility(state , player), None\n",
        "    v, move = +infinity , None\n",
        "  for a in game.actions(state):\n",
        "    v2, _ = max_value(game.result(state , a))\n",
        "  if v2 < v:\n",
        "    v, move = v2, a\n",
        "    return v, move\n",
        "  return max_value(state)\n",
        "  infinity = math.inf"
      ],
      "metadata": {
        "id": "M1HgLGQ_W3eT"
      },
      "execution_count": null,
      "outputs": []
    },
    {
      "cell_type": "markdown",
      "source": [
        "2.implement the alpha beta search Algorithm"
      ],
      "metadata": {
        "id": "sWdKC9TG8U8d"
      }
    },
    {
      "cell_type": "code",
      "source": [
        "def alphabeta_search(game, state):\n",
        "#\"\"\"Search game to determine best action; use alpha−beta pruning.\n",
        "#\"\"Search al l the way to the leaves .\"\"\"\n",
        "  player = state.to_move\n",
        "def max_value(state , alpha , beta):\n",
        "  if game.is_terminal(state):\n",
        "    return game.utility(state , player), None\n",
        "    v, move = -infinity , None\n",
        "  for a in game.actions(state):\n",
        "    v2, _ = min_value(game.result(state , a), alpha , beta)\n",
        "  if v2 > v:\n",
        "    v, move = v2, a\n",
        "    alpha = max(alpha , v)\n",
        "  if v >= beta:\n",
        "    return v, move\n",
        "  return v, move\n",
        "def min_value(state , alpha , beta):\n",
        "  if game.is_terminal(state):\n",
        "    return game.utility(state , player), None\n",
        "    v, move = +infinity , None\n",
        "  for a in game.actions(state):\n",
        "    v2, _= max_value(game.result(state , a), alpha , beta)\n",
        "  if v2 < v:\n",
        "    v, move = v2, a\n",
        "    beta = min(beta , v)\n",
        "  if v <= alpha:\n",
        "    return v, move\n",
        "    return v, move\n",
        "  return max_value(state , -infinity , +infinity)"
      ],
      "metadata": {
        "id": "2-x4Za3UW8_B"
      },
      "execution_count": null,
      "outputs": []
    },
    {
      "cell_type": "markdown",
      "source": [
        "Part 3 – Implement the Game Strategy using TicTocToe. [CO4]\n",
        "\n",
        " 1.Implement TicToCToe game using init , actions, result, is terminal, utility, display constructors"
      ],
      "metadata": {
        "id": "waAJhPGl84SC"
      }
    },
    {
      "cell_type": "code",
      "source": [
        "#Part - 3\n",
        "def _init_(self, height=3, width=3, k=3):\n",
        "  self.k = k # k in a row\n",
        "  self.squares = {(x, y) for x in range(width) for y in range(height)}\n",
        "  self.initial = Board(height=height , width=width , to_move='X', utility=0)\n",
        "def actions(self, board):\n",
        "  \"\"\"Legal moves are any square not yet taken.\"\"\"\n",
        "  return sel\n",
        "\n",
        "\n",
        "  f.squares - set(board)\n",
        "def result(self, board , square):\n",
        "  \"\"\"Place a marker for current player on square.\"\"\"\n",
        "  player = board.to_move\n",
        "  board = board.new({square: player}, to_move =('0' if player == 'X' else 'X'))\n",
        "  win = k_in_row (board , player , square , self.k)\n",
        "  board.utility = (0 if not win else +1 if player == 'X' else -1)\n",
        "  return board\n",
        "def utility(self, board , player):\n",
        "  \"\"\"Return the value to player; 1 for win, −1 for loss , 0 otherwise.\"\"\"\n",
        "  return board.utility if player == 'X' else -board.utility\n",
        "def is_terminal(self, board):\n",
        "  \"\"\"A board is a terminal state i f i t is won or there are no empty squares.\"\"\"\n",
        "  return board.utility != 0 or len(self.squares) == len(board)\n",
        "def display(self, board): print(board)\n",
        "def k_in_row (board , player , square , k):\n",
        "  \"\"\"True i f player has k pieces in a line through square.\"\"\"\n",
        "def in_row(x, y, dx, dy):\n",
        "  return 0 if board[x, y] != player else 1 + in_row(x + dx, y + dy, dx, dy)\n",
        "  return any(in_row(*square , dx, dy) + in_row(*square , -dx, -y)-1>=k\n",
        "  for (dx, dy) in ((0, 1), (1, 0), (1, 1), (1, -1)))"
      ],
      "metadata": {
        "id": "PZ5pvJ_TXIf_"
      },
      "execution_count": null,
      "outputs": []
    },
    {
      "cell_type": "markdown",
      "source": [
        " 2.Implement a Game Board using defaultdict using init , new, missing , hash , repr\n",
        "\n"
      ],
      "metadata": {
        "id": "aTSGwHbk8pRO"
      }
    },
    {
      "cell_type": "code",
      "source": [
        " def __init__(self, width=8, height=8, to_move=None , **kwds):\n",
        "     self._dict_.update(width=width , height=height , to_move=to_move , **kwds)\n",
        " def new(self, changes: dict , **kwds) -> 'Board':\n",
        "  \"Given a dict of f(x, y): contentsg changes , return a new Board with the changes.\"\n",
        "  board = Board(width=self.width , height=self.height , **kwds)\n",
        "  board.update(self)\n",
        "  board.update(changes)\n",
        "  return board\n",
        " def __missing__(self, loc):\n",
        "   x, y = loc\n",
        "   if 0 <= x < self.width and 0 <= y < self.height:\n",
        "     return self.empty\n",
        "   else:\n",
        "     return self.off\n",
        " def __hash__(self):\n",
        "    return hash(tuple(sorted(self.items()))) + hash(self.to_move)\n",
        " def __repr__(self):\n",
        "   def row(y): return ' '.join(self[x, y] for x in range(self.width))\n",
        "   return '\\n'.join(map(row, range(self.height))) + '\\n'"
      ],
      "metadata": {
        "id": "9uD5A-gu9Lk7"
      },
      "execution_count": 27,
      "outputs": []
    },
    {
      "cell_type": "markdown",
      "source": [
        "3. Implement random player(game,state) and player(search algorithm)"
      ],
      "metadata": {
        "id": "KPuRC-m4BXcy"
      }
    },
    {
      "cell_type": "code",
      "source": [
        "def random_player(game , state): return random.choice(list(game.actions(state)))\n",
        "def player(search_algorithm):\n",
        "  \"\"\"A game player who uses the specified search algorithm\"\"\"\n",
        "  return lambda game , state: search_algorithm(game , state)[1]"
      ],
      "metadata": {
        "id": "QK3ilEeaBeb0"
      },
      "execution_count": 29,
      "outputs": []
    },
    {
      "cell_type": "markdown",
      "source": [
        "Part 4 - Evaluate the AI Game Strategy using TicTocToe. [CO4]\n",
        "1. Implement Game Strategy using play game(TicTacToe(), dict(X=random player,\n",
        "O=player(alphabeta search)), verbose=True).utility\n",
        "2. Implement Game strategy using play game(TicTacToe(), dict(X=player(alphabeta search),\n",
        "O=player(minimax search)), verbose=True).utility"
      ],
      "metadata": {
        "id": "qcU3GwRcNKWt"
      }
    },
    {
      "cell_type": "code",
      "source": [],
      "metadata": {
        "id": "RHPmYYfvNN5B"
      },
      "execution_count": null,
      "outputs": []
    }
  ]
}