{
  "nbformat": 4,
  "nbformat_minor": 0,
  "metadata": {
    "colab": {
      "provenance": [],
      "authorship_tag": "ABX9TyPtUS5m/cWUuZUolFRqE9CO",
      "include_colab_link": true
    },
    "kernelspec": {
      "name": "python3",
      "display_name": "Python 3"
    },
    "language_info": {
      "name": "python"
    }
  },
  "cells": [
    {
      "cell_type": "markdown",
      "metadata": {
        "id": "view-in-github",
        "colab_type": "text"
      },
      "source": [
        "<a href=\"https://colab.research.google.com/github/Meghana06849/AIML_2303A51380/blob/main/Lab08_AIML.ipynb\" target=\"_parent\"><img src=\"https://colab.research.google.com/assets/colab-badge.svg\" alt=\"Open In Colab\"/></a>"
      ]
    },
    {
      "cell_type": "markdown",
      "source": [
        "# Implement Decision Tree Classification using OpenML Car Dataset\n",
        "In machine learning, decision trees are supervised learning models with associated learning\n",
        "algorithms that analyze data used for classification.\n",
        "Let’s say that you want to make a decision of the car to buy. In order to get the right car\n",
        "to buy, you could go on and evaluate the level of the safety, the number of sits and doors by\n",
        "asking series of if like questions.\n"
      ],
      "metadata": {
        "id": "jHZcmKnIRIqy"
      }
    },
    {
      "cell_type": "code",
      "execution_count": null,
      "metadata": {
        "id": "XNOtG6VzM26N"
      },
      "outputs": [],
      "source": []
    }
  ]
}